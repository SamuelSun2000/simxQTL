{
 "cells": [
  {
   "cell_type": "markdown",
   "id": "e508a56b-c6d4-49d3-8270-fdf0c0a78068",
   "metadata": {},
   "source": [
    "# Vignette of phenotype simulation with genotype"
   ]
  },
  {
   "cell_type": "markdown",
   "id": "0111d0aa-b6f1-4eba-a6de-73a2e85486b6",
   "metadata": {},
   "source": [
    "Here we provided how to simulate the effect sizes and phenotypes with the input of genoptype matrix (from real data or simulated)"
   ]
  },
  {
   "cell_type": "code",
   "execution_count": 5,
   "id": "c8dee1b8-82e1-4e9b-a744-cbdc66eac784",
   "metadata": {
    "tags": [],
    "vscode": {
     "languageId": "r"
    }
   },
   "outputs": [],
   "source": [
    "# Load functions in simxQTL\n",
    "library(simxQTL)\n",
    "\n",
    "devtools::load_all(\"/home/hs3393/pecotmr\")"
   ]
  },
  {
   "cell_type": "code",
   "execution_count": 8,
   "id": "dc691177-4026-4e53-a2ff-661a58f5ac93",
   "metadata": {
    "tags": [],
    "vscode": {
     "languageId": "r"
    }
   },
   "outputs": [],
   "source": [
    "# use read_plink to read PLINK format data\n",
    "library(\"MASS\")\n",
    "library(\"plink2R\")\n",
    "library(\"tidyverse\")\n",
    "geno <- read_plink(\"../data/example\")"
   ]
  },
  {
   "cell_type": "code",
   "execution_count": 9,
   "id": "f15c4012-c1c2-4e5f-84d1-564c803fd7fd",
   "metadata": {
    "tags": [],
    "vscode": {
     "languageId": "r"
    }
   },
   "outputs": [],
   "source": [
    "# Common filtering: only keep the variants with missing rate < 0.1 and maf > 0.05\n",
    "imiss = 0.1\n",
    "maf = 0.05\n",
    "# filter_X also serves the function to remove the columns with zero (or small variance specified by var_thresh) variance, impute columns by mean\n",
    "Xmat = filter_X(geno$bed, imiss, maf)"
   ]
  },
  {
   "cell_type": "markdown",
   "id": "7391df0e-6022-4f9b-8f68-773d02aaa78d",
   "metadata": {},
   "source": [
    "The simulation strategy is given below."
   ]
  },
  {
   "cell_type": "markdown",
   "id": "cdb9e906-ef72-43ae-a6d4-bd8c2c274325",
   "metadata": {
    "kernel": "SoS"
   },
   "source": [
    "## Total heritability ($\\phi_{total}$) for a block: formula deduction\n",
    "\n",
    "Effect size are all set to be 1. This value actually doesn't matter so much because phi will eventually control the variance. Under this case, all SNPs share the same effect size, and they altogether contribute to explain $\\phi_{total}$ (eg.0.5) variance of the total variance. To get Y, we assume a multivariate gaussian distribution $\\textbf{Y} \\sim N(\\textbf{X} \\beta, \\sigma^2)$, and $\\sigma^2$ can be estimated by the equation below.\n",
    "\n",
    "$\\phi_{total} = \\dfrac{var(X \\beta)}{\\sigma^2 + var(X \\beta)}$\n",
    "\n",
    "$\\sigma^2 = \\frac{var(X \\beta)(1-\\phi_{total})}{\\phi_{total}}$ "
   ]
  },
  {
   "cell_type": "markdown",
   "id": "cc6d5f97-022d-4fb8-b8a5-3ddc1f2d5345",
   "metadata": {
    "kernel": "SoS"
   },
   "source": [
    "## SNP level heritability ($\\phi_{SNP}$) formula deduction\n",
    "\n",
    "1. Assume there are total number of $a$ causal variants. We assign $\\beta_1 = 1$ as the initialize setting.\n",
    "\n",
    "2. For each causal variant we have:\n",
    "\n",
    "$\\frac{Var(X_1 \\beta_1)}{Var(Y)} = \\frac{Var(X_2 \\beta_2)}{Var(Y)} = ... = \\frac{Var(X_a \\beta_a)}{Var(Y)} = \\phi_{SNP}$\n",
    "\n",
    "3. In that way, we have: if $\\beta_1^2 Var(X_1) = \\beta_2^2Var(X_2) = ... = \\beta_a^2 Var(X_a)$. Then we have $\\beta_2 = \\sqrt{\\frac{\\beta_1^2 Var(X_1)}{Var(X_2)}}$, ..., $\\beta_a = \\sqrt{\\frac{\\beta_1^2 Var(X_1)}{Var(X_a)}}$.\n",
    "\n",
    "5. Then we will have\n",
    "$\\frac{Var(X_1 \\beta_1)}{Var(Y)} = \\frac{Var(X_1 \\beta_1)}{Var(X \\beta) + \\sigma^2} = \\phi_{SNP}$. Therefore, we have $\\sigma^2 = \\frac{Var(X_1 \\beta_1)}{\\phi_{SNP}} - Var(X \\beta)$"
   ]
  },
  {
   "cell_type": "markdown",
   "id": "bc2ed516-f49a-400e-99aa-8619b4da117d",
   "metadata": {},
   "source": [
    "## Simulate by functions simulate_linreg.R"
   ]
  },
  {
   "cell_type": "markdown",
   "id": "38025b47-6682-4677-bb42-4a57b8747458",
   "metadata": {},
   "source": [
    "### Step 1: Get effect sizes"
   ]
  },
  {
   "cell_type": "code",
   "execution_count": 14,
   "id": "913813e1-8eb3-4785-ac77-62e07ee3a691",
   "metadata": {
    "tags": [],
    "vscode": {
     "languageId": "r"
    }
   },
   "outputs": [],
   "source": [
    "# specify the number of causal variant for all traits\n",
    "ncausal = 2\n",
    "# specify the number of traits\n",
    "ntrait = 2\n",
    "\n",
    "\n",
    "shared_pattern = \"all\"\n",
    "\n",
    "# is_h2_total: TRUE or FALSE corresponding to one of the simulation strategy\n",
    "# shared_pattern: for causal variants, are they the same for all traits? or totally random across traits\n",
    "B = sim_beta(G = Xmat, ncausal = ncausal , ntrait, \n",
    "                 is_h2g_total = TRUE, \n",
    "                 shared_pattern = \"all\")"
   ]
  },
  {
   "cell_type": "code",
   "execution_count": 15,
   "id": "43ba939d-6fa7-4980-aa5e-e4e2c41e11f3",
   "metadata": {
    "tags": [],
    "vscode": {
     "languageId": "r"
    }
   },
   "outputs": [
    {
     "name": "stdout",
     "output_type": "stream",
     "text": [
      " num [1:947, 1:2] 0 0 0 0 0 0 0 0 0 0 ...\n"
     ]
    }
   ],
   "source": [
    "str(B)"
   ]
  },
  {
   "cell_type": "markdown",
   "id": "b03621fc-eafe-4ba9-9bd0-1b62d986959e",
   "metadata": {},
   "source": [
    "B will be a matrix with dimension m (number of variants) * n (simulated traits), with non-zero entry for causal variants."
   ]
  },
  {
   "cell_type": "code",
   "execution_count": 16,
   "id": "ca6c9003-b115-462b-ad8b-36fa5fff9df7",
   "metadata": {
    "tags": [],
    "vscode": {
     "languageId": "r"
    }
   },
   "outputs": [
    {
     "data": {
      "text/html": [
       "<style>\n",
       ".list-inline {list-style: none; margin:0; padding: 0}\n",
       ".list-inline>li {display: inline-block}\n",
       ".list-inline>li:not(:last-child)::after {content: \"\\00b7\"; padding: 0 .5ex}\n",
       "</style>\n",
       "<ol class=list-inline><li>495</li><li>702</li></ol>\n"
      ],
      "text/latex": [
       "\\begin{enumerate*}\n",
       "\\item 495\n",
       "\\item 702\n",
       "\\end{enumerate*}\n"
      ],
      "text/markdown": [
       "1. 495\n",
       "2. 702\n",
       "\n",
       "\n"
      ],
      "text/plain": [
       "[1] 495 702"
      ]
     },
     "metadata": {},
     "output_type": "display_data"
    },
    {
     "data": {
      "text/html": [
       "<style>\n",
       ".list-inline {list-style: none; margin:0; padding: 0}\n",
       ".list-inline>li {display: inline-block}\n",
       ".list-inline>li:not(:last-child)::after {content: \"\\00b7\"; padding: 0 .5ex}\n",
       "</style>\n",
       "<ol class=list-inline><li>495</li><li>702</li></ol>\n"
      ],
      "text/latex": [
       "\\begin{enumerate*}\n",
       "\\item 495\n",
       "\\item 702\n",
       "\\end{enumerate*}\n"
      ],
      "text/markdown": [
       "1. 495\n",
       "2. 702\n",
       "\n",
       "\n"
      ],
      "text/plain": [
       "[1] 495 702"
      ]
     },
     "metadata": {},
     "output_type": "display_data"
    }
   ],
   "source": [
    "which(B[,1] != 0)\n",
    "which(B[,2] != 0)"
   ]
  },
  {
   "cell_type": "markdown",
   "id": "4c002c14-a5a6-41f5-ac11-6087e49dda19",
   "metadata": {},
   "source": [
    "We have shared pattern = \"all\" so the two variants are all causal variants in both trait 1 and trait2."
   ]
  },
  {
   "cell_type": "code",
   "execution_count": 22,
   "id": "2e1b7215-1512-4cea-beb1-f98c72f0c4e9",
   "metadata": {
    "tags": [],
    "vscode": {
     "languageId": "r"
    }
   },
   "outputs": [],
   "source": [
    "B = sim_beta(G = Xmat, ncausal = ncausal , ntrait, \n",
    "                 is_h2g_total = TRUE, \n",
    "                 shared_pattern = \"random\")"
   ]
  },
  {
   "cell_type": "code",
   "execution_count": 23,
   "id": "94e4063a-e5a8-4d9a-a7dc-7a52a7018a1e",
   "metadata": {
    "tags": [],
    "vscode": {
     "languageId": "r"
    }
   },
   "outputs": [
    {
     "data": {
      "text/html": [
       "<style>\n",
       ".list-inline {list-style: none; margin:0; padding: 0}\n",
       ".list-inline>li {display: inline-block}\n",
       ".list-inline>li:not(:last-child)::after {content: \"\\00b7\"; padding: 0 .5ex}\n",
       "</style>\n",
       "<ol class=list-inline><li>145</li><li>860</li></ol>\n"
      ],
      "text/latex": [
       "\\begin{enumerate*}\n",
       "\\item 145\n",
       "\\item 860\n",
       "\\end{enumerate*}\n"
      ],
      "text/markdown": [
       "1. 145\n",
       "2. 860\n",
       "\n",
       "\n"
      ],
      "text/plain": [
       "[1] 145 860"
      ]
     },
     "metadata": {},
     "output_type": "display_data"
    },
    {
     "data": {
      "text/html": [
       "<style>\n",
       ".list-inline {list-style: none; margin:0; padding: 0}\n",
       ".list-inline>li {display: inline-block}\n",
       ".list-inline>li:not(:last-child)::after {content: \"\\00b7\"; padding: 0 .5ex}\n",
       "</style>\n",
       "<ol class=list-inline><li>632</li><li>930</li></ol>\n"
      ],
      "text/latex": [
       "\\begin{enumerate*}\n",
       "\\item 632\n",
       "\\item 930\n",
       "\\end{enumerate*}\n"
      ],
      "text/markdown": [
       "1. 632\n",
       "2. 930\n",
       "\n",
       "\n"
      ],
      "text/plain": [
       "[1] 632 930"
      ]
     },
     "metadata": {},
     "output_type": "display_data"
    }
   ],
   "source": [
    "which(B[,1] != 0)\n",
    "which(B[,2] != 0)"
   ]
  },
  {
   "cell_type": "markdown",
   "id": "516c458f-bf3b-4a38-9c33-76d6984919e1",
   "metadata": {
    "tags": []
   },
   "source": [
    "**Also when you have specified variant index**, you can clearly specify their variant index in this region."
   ]
  },
  {
   "cell_type": "code",
   "execution_count": 29,
   "id": "d010f612-5af4-4f29-8ebc-ac77df6ba2cb",
   "metadata": {
    "tags": [],
    "vscode": {
     "languageId": "r"
    }
   },
   "outputs": [
    {
     "data": {
      "text/html": [
       "<style>\n",
       ".list-inline {list-style: none; margin:0; padding: 0}\n",
       ".list-inline>li {display: inline-block}\n",
       ".list-inline>li:not(:last-child)::after {content: \"\\00b7\"; padding: 0 .5ex}\n",
       "</style>\n",
       "<ol class=list-inline><li>100</li><li>500</li></ol>\n"
      ],
      "text/latex": [
       "\\begin{enumerate*}\n",
       "\\item 100\n",
       "\\item 500\n",
       "\\end{enumerate*}\n"
      ],
      "text/markdown": [
       "1. 100\n",
       "2. 500\n",
       "\n",
       "\n"
      ],
      "text/plain": [
       "[1] 100 500"
      ]
     },
     "metadata": {},
     "output_type": "display_data"
    }
   ],
   "source": [
    "# directly assign som \n",
    "\n",
    "causal_index = c(100, 500)\n",
    "\n",
    "B = sim_beta_fix_variant(G = Xmat, causal_index = causal_index, is_h2g_total = FALSE)\n",
    "which(B[,1] != 0)"
   ]
  },
  {
   "cell_type": "markdown",
   "id": "b323246d-99b8-41ef-95ee-30cd939ca96c",
   "metadata": {},
   "source": [
    "### Step 2: calculate Y (trait; phenotype)"
   ]
  },
  {
   "cell_type": "markdown",
   "id": "1f5441f6-0cda-489d-b965-fd0f6b7121d5",
   "metadata": {},
   "source": [
    "Here using this function you can simulate multiple traits at the same time, based on the effect size matrix B. These phenotypes can be dependent or independent."
   ]
  },
  {
   "cell_type": "code",
   "execution_count": 38,
   "id": "ed0f6c6e-aef0-4cc9-9b8f-e11ae58d62f1",
   "metadata": {
    "tags": [],
    "vscode": {
     "languageId": "r"
    }
   },
   "outputs": [
    {
     "name": "stdout",
     "output_type": "stream",
     "text": [
      "List of 2\n",
      " $ P           : num [1:489, 1] 14.432 -1.792 3.004 0.935 0.344 ...\n",
      "  ..- attr(*, \"dimnames\")=List of 2\n",
      "  .. ..$ : chr [1:489] \"HG00096:HG00096\" \"HG00097:HG00097\" \"HG00099:HG00099\" \"HG00101:HG00101\" ...\n",
      "  .. ..$ : chr \"Trait_1\"\n",
      " $ residual_var: num [1, 1] 85.7\n"
     ]
    }
   ],
   "source": [
    "phenotype = sim_multi_traits(G =  Xmat, B = B, h2g = 0.005, is_h2g_total = FALSE, residual_corr = NULL)\n",
    "str(phenotype)"
   ]
  },
  {
   "cell_type": "markdown",
   "id": "f096f731-7f2e-49bc-899f-2eab881873cd",
   "metadata": {},
   "source": [
    "The output will have 2 elements: \n",
    "\n",
    "1. P: a p (sample number) * m (phenotype number) matrix\n",
    "2. residual_var: residual variance/covariance matrix based on the input of residual_corr (default NULL, using correlation matrix of diagnal matrix between traits)"
   ]
  },
  {
   "cell_type": "code",
   "execution_count": 39,
   "id": "66ec4020-80de-42e8-8107-142294066cca",
   "metadata": {
    "tags": [],
    "vscode": {
     "languageId": "r"
    }
   },
   "outputs": [],
   "source": [
    "phenotype = phenotype$P\n",
    "\n",
    "X = Xmat\n",
    "Y = phenotype"
   ]
  },
  {
   "cell_type": "markdown",
   "id": "0528fb28-c8d3-4e0c-9738-826851ca2e53",
   "metadata": {},
   "source": [
    "### Now we have X (genotype matrix) and Y (phenotype, trait) pairs!"
   ]
  },
  {
   "cell_type": "markdown",
   "id": "2b18a5fb-4833-4a37-8a04-97a69a0e0459",
   "metadata": {},
   "source": [
    "### (Optional) Step 3: Convert them to summary statistics & LD"
   ]
  },
  {
   "cell_type": "code",
   "execution_count": 40,
   "id": "e9102908-5ebc-4b11-a5f6-0e5dbb2066c7",
   "metadata": {
    "tags": [],
    "vscode": {
     "languageId": "r"
    }
   },
   "outputs": [],
   "source": [
    "trait = calculate_sumstat(X, unname(unlist(Y[,1])))"
   ]
  },
  {
   "cell_type": "code",
   "execution_count": 41,
   "id": "367aa8fc-6c51-4ec5-9988-c9934d7e39a5",
   "metadata": {
    "tags": [],
    "vscode": {
     "languageId": "r"
    }
   },
   "outputs": [
    {
     "data": {
      "text/html": [
       "<table class=\"dataframe\">\n",
       "<caption>A tibble: 6 × 6</caption>\n",
       "<thead>\n",
       "\t<tr><th scope=col>SNP</th><th scope=col>Beta</th><th scope=col>se</th><th scope=col>Freq</th><th scope=col>p</th><th scope=col>z</th></tr>\n",
       "\t<tr><th scope=col>&lt;chr&gt;</th><th scope=col>&lt;dbl&gt;</th><th scope=col>&lt;dbl&gt;</th><th scope=col>&lt;dbl&gt;</th><th scope=col>&lt;dbl&gt;</th><th scope=col>&lt;dbl&gt;</th></tr>\n",
       "</thead>\n",
       "<tbody>\n",
       "\t<tr><td>rs2773869</td><td>-0.414316759</td><td>0.7201517</td><td>0.1942740</td><td>0.5650757</td><td>-0.575318754</td></tr>\n",
       "\t<tr><td>rs2247680</td><td>-0.458417826</td><td>0.9401589</td><td>0.1053170</td><td>0.6258359</td><td>-0.487596127</td></tr>\n",
       "\t<tr><td>rs944214 </td><td> 0.632401094</td><td>0.6615128</td><td>0.2576687</td><td>0.3390762</td><td> 0.955992205</td></tr>\n",
       "\t<tr><td>rs944215 </td><td>-0.287842618</td><td>0.7397778</td><td>0.1860941</td><td>0.6972071</td><td>-0.389093344</td></tr>\n",
       "\t<tr><td>rs2773870</td><td> 0.006495443</td><td>0.7069575</td><td>0.2034765</td><td>0.9926692</td><td> 0.009187882</td></tr>\n",
       "\t<tr><td>rs944216 </td><td> 0.006495443</td><td>0.7069575</td><td>0.2034765</td><td>0.9926692</td><td> 0.009187882</td></tr>\n",
       "</tbody>\n",
       "</table>\n"
      ],
      "text/latex": [
       "A tibble: 6 × 6\n",
       "\\begin{tabular}{llllll}\n",
       " SNP & Beta & se & Freq & p & z\\\\\n",
       " <chr> & <dbl> & <dbl> & <dbl> & <dbl> & <dbl>\\\\\n",
       "\\hline\n",
       "\t rs2773869 & -0.414316759 & 0.7201517 & 0.1942740 & 0.5650757 & -0.575318754\\\\\n",
       "\t rs2247680 & -0.458417826 & 0.9401589 & 0.1053170 & 0.6258359 & -0.487596127\\\\\n",
       "\t rs944214  &  0.632401094 & 0.6615128 & 0.2576687 & 0.3390762 &  0.955992205\\\\\n",
       "\t rs944215  & -0.287842618 & 0.7397778 & 0.1860941 & 0.6972071 & -0.389093344\\\\\n",
       "\t rs2773870 &  0.006495443 & 0.7069575 & 0.2034765 & 0.9926692 &  0.009187882\\\\\n",
       "\t rs944216  &  0.006495443 & 0.7069575 & 0.2034765 & 0.9926692 &  0.009187882\\\\\n",
       "\\end{tabular}\n"
      ],
      "text/markdown": [
       "\n",
       "A tibble: 6 × 6\n",
       "\n",
       "| SNP &lt;chr&gt; | Beta &lt;dbl&gt; | se &lt;dbl&gt; | Freq &lt;dbl&gt; | p &lt;dbl&gt; | z &lt;dbl&gt; |\n",
       "|---|---|---|---|---|---|\n",
       "| rs2773869 | -0.414316759 | 0.7201517 | 0.1942740 | 0.5650757 | -0.575318754 |\n",
       "| rs2247680 | -0.458417826 | 0.9401589 | 0.1053170 | 0.6258359 | -0.487596127 |\n",
       "| rs944214  |  0.632401094 | 0.6615128 | 0.2576687 | 0.3390762 |  0.955992205 |\n",
       "| rs944215  | -0.287842618 | 0.7397778 | 0.1860941 | 0.6972071 | -0.389093344 |\n",
       "| rs2773870 |  0.006495443 | 0.7069575 | 0.2034765 | 0.9926692 |  0.009187882 |\n",
       "| rs944216  |  0.006495443 | 0.7069575 | 0.2034765 | 0.9926692 |  0.009187882 |\n",
       "\n"
      ],
      "text/plain": [
       "  SNP       Beta         se        Freq      p         z           \n",
       "1 rs2773869 -0.414316759 0.7201517 0.1942740 0.5650757 -0.575318754\n",
       "2 rs2247680 -0.458417826 0.9401589 0.1053170 0.6258359 -0.487596127\n",
       "3 rs944214   0.632401094 0.6615128 0.2576687 0.3390762  0.955992205\n",
       "4 rs944215  -0.287842618 0.7397778 0.1860941 0.6972071 -0.389093344\n",
       "5 rs2773870  0.006495443 0.7069575 0.2034765 0.9926692  0.009187882\n",
       "6 rs944216   0.006495443 0.7069575 0.2034765 0.9926692  0.009187882"
      ]
     },
     "metadata": {},
     "output_type": "display_data"
    }
   ],
   "source": [
    "head(trait)"
   ]
  },
  {
   "cell_type": "markdown",
   "id": "b0810b5a-404a-479e-ba12-0665f7040def",
   "metadata": {},
   "source": [
    "This is using univariate regression and you can get sumstat of each variant. "
   ]
  },
  {
   "cell_type": "code",
   "execution_count": null,
   "id": "f9e4d131-c8d3-4e4a-894d-ad1850882004",
   "metadata": {
    "vscode": {
     "languageId": "r"
    }
   },
   "outputs": [],
   "source": [
    "If you want LD you can simply use cor(X) or a faster way:"
   ]
  },
  {
   "cell_type": "code",
   "execution_count": 44,
   "id": "6924f4f7-e392-40c4-9b7a-5f691d1ed66d",
   "metadata": {
    "tags": [],
    "vscode": {
     "languageId": "r"
    }
   },
   "outputs": [],
   "source": [
    "LD = get_correlation(X)"
   ]
  },
  {
   "cell_type": "code",
   "execution_count": 45,
   "id": "3603db18-cb44-470e-acc8-b8c7b090f4c3",
   "metadata": {
    "tags": [],
    "vscode": {
     "languageId": "r"
    }
   },
   "outputs": [
    {
     "data": {
      "text/html": [
       "<table class=\"dataframe\">\n",
       "<caption>A matrix: 6 × 947 of type dbl</caption>\n",
       "<thead>\n",
       "\t<tr><th></th><th scope=col>rs2773869</th><th scope=col>rs2247680</th><th scope=col>rs944214</th><th scope=col>rs944215</th><th scope=col>rs2773870</th><th scope=col>rs944216</th><th scope=col>rs2773871</th><th scope=col>rs944217</th><th scope=col>rs944218</th><th scope=col>rs2416854</th><th scope=col>⋯</th><th scope=col>rs75194338</th><th scope=col>rs76771831</th><th scope=col>rs2900207</th><th scope=col>rs2185561</th><th scope=col>rs4836894</th><th scope=col>rs4836895</th><th scope=col>rs4837991</th><th scope=col>rs4836896</th><th scope=col>rs4837992</th><th scope=col>rs3962623</th></tr>\n",
       "</thead>\n",
       "<tbody>\n",
       "\t<tr><th scope=row>rs2773869</th><td>1.0000000</td><td>0.5831338</td><td>0.5018285</td><td>0.5958470</td><td>0.6041128</td><td>0.6041128</td><td>0.6007688</td><td>0.6041128</td><td>0.6041128</td><td>0.3253454</td><td>⋯</td><td> 0.071850630</td><td>-0.05350983</td><td>0.001825327</td><td>0.001825327</td><td> 0.073952259</td><td>-0.06802515</td><td> 0.071850630</td><td> 0.073952259</td><td> 0.071850630</td><td>-0.06802515</td></tr>\n",
       "\t<tr><th scope=row>rs2247680</th><td>0.5831338</td><td>1.0000000</td><td>0.5749260</td><td>0.7194841</td><td>0.6909864</td><td>0.6909864</td><td>0.6998237</td><td>0.6909864</td><td>0.6909864</td><td>0.2252858</td><td>⋯</td><td>-0.004744519</td><td>-0.00344168</td><td>0.019282826</td><td>0.019282826</td><td>-0.003234928</td><td>-0.01216305</td><td>-0.004744519</td><td>-0.003234928</td><td>-0.004744519</td><td>-0.01216305</td></tr>\n",
       "\t<tr><th scope=row>rs944214</th><td>0.5018285</td><td>0.5749260</td><td>1.0000000</td><td>0.8015244</td><td>0.8443176</td><td>0.8443176</td><td>0.8389883</td><td>0.8443176</td><td>0.8443176</td><td>0.5831042</td><td>⋯</td><td> 0.018064229</td><td>-0.05804925</td><td>0.033165150</td><td>0.033165150</td><td> 0.015614323</td><td>-0.04517601</td><td> 0.018064229</td><td> 0.015614323</td><td> 0.018064229</td><td>-0.04517601</td></tr>\n",
       "\t<tr><th scope=row>rs944215</th><td>0.5958470</td><td>0.7194841</td><td>0.8015244</td><td>1.0000000</td><td>0.9466962</td><td>0.9466962</td><td>0.9522023</td><td>0.9466962</td><td>0.9466962</td><td>0.7280007</td><td>⋯</td><td> 0.038366569</td><td>-0.02455570</td><td>0.021031703</td><td>0.021031703</td><td> 0.040447197</td><td>-0.05353989</td><td> 0.038366569</td><td> 0.040447197</td><td> 0.038366569</td><td>-0.05353989</td></tr>\n",
       "\t<tr><th scope=row>rs2773870</th><td>0.6041128</td><td>0.6909864</td><td>0.8443176</td><td>0.9466962</td><td>1.0000000</td><td>1.0000000</td><td>0.9936782</td><td>1.0000000</td><td>1.0000000</td><td>0.6803265</td><td>⋯</td><td> 0.041975910</td><td>-0.04445553</td><td>0.044283670</td><td>0.044283670</td><td> 0.044148854</td><td>-0.07683680</td><td> 0.041975910</td><td> 0.044148854</td><td> 0.041975910</td><td>-0.07683680</td></tr>\n",
       "\t<tr><th scope=row>rs944216</th><td>0.6041128</td><td>0.6909864</td><td>0.8443176</td><td>0.9466962</td><td>1.0000000</td><td>1.0000000</td><td>0.9936782</td><td>1.0000000</td><td>1.0000000</td><td>0.6803265</td><td>⋯</td><td> 0.041975910</td><td>-0.04445553</td><td>0.044283670</td><td>0.044283670</td><td> 0.044148854</td><td>-0.07683680</td><td> 0.041975910</td><td> 0.044148854</td><td> 0.041975910</td><td>-0.07683680</td></tr>\n",
       "</tbody>\n",
       "</table>\n"
      ],
      "text/latex": [
       "A matrix: 6 × 947 of type dbl\n",
       "\\begin{tabular}{r|lllllllllllllllllllll}\n",
       "  & rs2773869 & rs2247680 & rs944214 & rs944215 & rs2773870 & rs944216 & rs2773871 & rs944217 & rs944218 & rs2416854 & ⋯ & rs75194338 & rs76771831 & rs2900207 & rs2185561 & rs4836894 & rs4836895 & rs4837991 & rs4836896 & rs4837992 & rs3962623\\\\\n",
       "\\hline\n",
       "\trs2773869 & 1.0000000 & 0.5831338 & 0.5018285 & 0.5958470 & 0.6041128 & 0.6041128 & 0.6007688 & 0.6041128 & 0.6041128 & 0.3253454 & ⋯ &  0.071850630 & -0.05350983 & 0.001825327 & 0.001825327 &  0.073952259 & -0.06802515 &  0.071850630 &  0.073952259 &  0.071850630 & -0.06802515\\\\\n",
       "\trs2247680 & 0.5831338 & 1.0000000 & 0.5749260 & 0.7194841 & 0.6909864 & 0.6909864 & 0.6998237 & 0.6909864 & 0.6909864 & 0.2252858 & ⋯ & -0.004744519 & -0.00344168 & 0.019282826 & 0.019282826 & -0.003234928 & -0.01216305 & -0.004744519 & -0.003234928 & -0.004744519 & -0.01216305\\\\\n",
       "\trs944214 & 0.5018285 & 0.5749260 & 1.0000000 & 0.8015244 & 0.8443176 & 0.8443176 & 0.8389883 & 0.8443176 & 0.8443176 & 0.5831042 & ⋯ &  0.018064229 & -0.05804925 & 0.033165150 & 0.033165150 &  0.015614323 & -0.04517601 &  0.018064229 &  0.015614323 &  0.018064229 & -0.04517601\\\\\n",
       "\trs944215 & 0.5958470 & 0.7194841 & 0.8015244 & 1.0000000 & 0.9466962 & 0.9466962 & 0.9522023 & 0.9466962 & 0.9466962 & 0.7280007 & ⋯ &  0.038366569 & -0.02455570 & 0.021031703 & 0.021031703 &  0.040447197 & -0.05353989 &  0.038366569 &  0.040447197 &  0.038366569 & -0.05353989\\\\\n",
       "\trs2773870 & 0.6041128 & 0.6909864 & 0.8443176 & 0.9466962 & 1.0000000 & 1.0000000 & 0.9936782 & 1.0000000 & 1.0000000 & 0.6803265 & ⋯ &  0.041975910 & -0.04445553 & 0.044283670 & 0.044283670 &  0.044148854 & -0.07683680 &  0.041975910 &  0.044148854 &  0.041975910 & -0.07683680\\\\\n",
       "\trs944216 & 0.6041128 & 0.6909864 & 0.8443176 & 0.9466962 & 1.0000000 & 1.0000000 & 0.9936782 & 1.0000000 & 1.0000000 & 0.6803265 & ⋯ &  0.041975910 & -0.04445553 & 0.044283670 & 0.044283670 &  0.044148854 & -0.07683680 &  0.041975910 &  0.044148854 &  0.041975910 & -0.07683680\\\\\n",
       "\\end{tabular}\n"
      ],
      "text/markdown": [
       "\n",
       "A matrix: 6 × 947 of type dbl\n",
       "\n",
       "| <!--/--> | rs2773869 | rs2247680 | rs944214 | rs944215 | rs2773870 | rs944216 | rs2773871 | rs944217 | rs944218 | rs2416854 | ⋯ | rs75194338 | rs76771831 | rs2900207 | rs2185561 | rs4836894 | rs4836895 | rs4837991 | rs4836896 | rs4837992 | rs3962623 |\n",
       "|---|---|---|---|---|---|---|---|---|---|---|---|---|---|---|---|---|---|---|---|---|---|\n",
       "| rs2773869 | 1.0000000 | 0.5831338 | 0.5018285 | 0.5958470 | 0.6041128 | 0.6041128 | 0.6007688 | 0.6041128 | 0.6041128 | 0.3253454 | ⋯ |  0.071850630 | -0.05350983 | 0.001825327 | 0.001825327 |  0.073952259 | -0.06802515 |  0.071850630 |  0.073952259 |  0.071850630 | -0.06802515 |\n",
       "| rs2247680 | 0.5831338 | 1.0000000 | 0.5749260 | 0.7194841 | 0.6909864 | 0.6909864 | 0.6998237 | 0.6909864 | 0.6909864 | 0.2252858 | ⋯ | -0.004744519 | -0.00344168 | 0.019282826 | 0.019282826 | -0.003234928 | -0.01216305 | -0.004744519 | -0.003234928 | -0.004744519 | -0.01216305 |\n",
       "| rs944214 | 0.5018285 | 0.5749260 | 1.0000000 | 0.8015244 | 0.8443176 | 0.8443176 | 0.8389883 | 0.8443176 | 0.8443176 | 0.5831042 | ⋯ |  0.018064229 | -0.05804925 | 0.033165150 | 0.033165150 |  0.015614323 | -0.04517601 |  0.018064229 |  0.015614323 |  0.018064229 | -0.04517601 |\n",
       "| rs944215 | 0.5958470 | 0.7194841 | 0.8015244 | 1.0000000 | 0.9466962 | 0.9466962 | 0.9522023 | 0.9466962 | 0.9466962 | 0.7280007 | ⋯ |  0.038366569 | -0.02455570 | 0.021031703 | 0.021031703 |  0.040447197 | -0.05353989 |  0.038366569 |  0.040447197 |  0.038366569 | -0.05353989 |\n",
       "| rs2773870 | 0.6041128 | 0.6909864 | 0.8443176 | 0.9466962 | 1.0000000 | 1.0000000 | 0.9936782 | 1.0000000 | 1.0000000 | 0.6803265 | ⋯ |  0.041975910 | -0.04445553 | 0.044283670 | 0.044283670 |  0.044148854 | -0.07683680 |  0.041975910 |  0.044148854 |  0.041975910 | -0.07683680 |\n",
       "| rs944216 | 0.6041128 | 0.6909864 | 0.8443176 | 0.9466962 | 1.0000000 | 1.0000000 | 0.9936782 | 1.0000000 | 1.0000000 | 0.6803265 | ⋯ |  0.041975910 | -0.04445553 | 0.044283670 | 0.044283670 |  0.044148854 | -0.07683680 |  0.041975910 |  0.044148854 |  0.041975910 | -0.07683680 |\n",
       "\n"
      ],
      "text/plain": [
       "          rs2773869 rs2247680 rs944214  rs944215  rs2773870 rs944216  rs2773871\n",
       "rs2773869 1.0000000 0.5831338 0.5018285 0.5958470 0.6041128 0.6041128 0.6007688\n",
       "rs2247680 0.5831338 1.0000000 0.5749260 0.7194841 0.6909864 0.6909864 0.6998237\n",
       "rs944214  0.5018285 0.5749260 1.0000000 0.8015244 0.8443176 0.8443176 0.8389883\n",
       "rs944215  0.5958470 0.7194841 0.8015244 1.0000000 0.9466962 0.9466962 0.9522023\n",
       "rs2773870 0.6041128 0.6909864 0.8443176 0.9466962 1.0000000 1.0000000 0.9936782\n",
       "rs944216  0.6041128 0.6909864 0.8443176 0.9466962 1.0000000 1.0000000 0.9936782\n",
       "          rs944217  rs944218  rs2416854 ⋯ rs75194338   rs76771831  rs2900207  \n",
       "rs2773869 0.6041128 0.6041128 0.3253454 ⋯  0.071850630 -0.05350983 0.001825327\n",
       "rs2247680 0.6909864 0.6909864 0.2252858 ⋯ -0.004744519 -0.00344168 0.019282826\n",
       "rs944214  0.8443176 0.8443176 0.5831042 ⋯  0.018064229 -0.05804925 0.033165150\n",
       "rs944215  0.9466962 0.9466962 0.7280007 ⋯  0.038366569 -0.02455570 0.021031703\n",
       "rs2773870 1.0000000 1.0000000 0.6803265 ⋯  0.041975910 -0.04445553 0.044283670\n",
       "rs944216  1.0000000 1.0000000 0.6803265 ⋯  0.041975910 -0.04445553 0.044283670\n",
       "          rs2185561   rs4836894    rs4836895   rs4837991    rs4836896   \n",
       "rs2773869 0.001825327  0.073952259 -0.06802515  0.071850630  0.073952259\n",
       "rs2247680 0.019282826 -0.003234928 -0.01216305 -0.004744519 -0.003234928\n",
       "rs944214  0.033165150  0.015614323 -0.04517601  0.018064229  0.015614323\n",
       "rs944215  0.021031703  0.040447197 -0.05353989  0.038366569  0.040447197\n",
       "rs2773870 0.044283670  0.044148854 -0.07683680  0.041975910  0.044148854\n",
       "rs944216  0.044283670  0.044148854 -0.07683680  0.041975910  0.044148854\n",
       "          rs4837992    rs3962623  \n",
       "rs2773869  0.071850630 -0.06802515\n",
       "rs2247680 -0.004744519 -0.01216305\n",
       "rs944214   0.018064229 -0.04517601\n",
       "rs944215   0.038366569 -0.05353989\n",
       "rs2773870  0.041975910 -0.07683680\n",
       "rs944216   0.041975910 -0.07683680"
      ]
     },
     "metadata": {},
     "output_type": "display_data"
    }
   ],
   "source": [
    "head(LD)"
   ]
  }
 ],
 "metadata": {
  "kernelspec": {
   "display_name": "R",
   "language": "R",
   "name": "ir"
  },
  "language_info": {
   "codemirror_mode": "r",
   "file_extension": ".r",
   "mimetype": "text/x-r-source",
   "name": "R",
   "pygments_lexer": "r",
   "version": "4.3.3"
  }
 },
 "nbformat": 4,
 "nbformat_minor": 5
}
